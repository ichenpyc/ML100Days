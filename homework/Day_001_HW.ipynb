{
 "cells": [
  {
   "cell_type": "markdown",
   "metadata": {},
   "source": [
    "作業目標:\n",
    "在array中，可以靈活應用索引幫助資料擷取\n",
    "作業重點:\n",
    "陣列的屬性需要注意使用方式\n",
    "陣列之中索引是由0開始請同學注意\n",
    "\n",
    "題目:\n",
    "1.生成一個等差數列，首數為0，尾數為20，公差為1的數列。\n",
    "2.呈上題，將以上數列取出偶數。\n",
    "3.呈1題，將數列取出3的倍數。"
   ]
  },
  {
   "cell_type": "code",
   "execution_count": 1,
   "metadata": {},
   "outputs": [],
   "source": [
    "import numpy as np"
   ]
  },
  {
   "cell_type": "code",
   "execution_count": 2,
   "metadata": {},
   "outputs": [
    {
     "name": "stdout",
     "output_type": "stream",
     "text": [
      "1. 0~20 : [ 0  1  2  3  4  5  6  7  8  9 10 11 12 13 14 15 16 17 18 19 20]\n"
     ]
    }
   ],
   "source": [
    "a= np.arange(0, 21, 1)\n",
    "print(\"1. 0~20 :\", a)"
   ]
  },
  {
   "cell_type": "code",
   "execution_count": 3,
   "metadata": {},
   "outputs": [
    {
     "name": "stdout",
     "output_type": "stream",
     "text": [
      "2. 偶數： [ 0  2  4  6  8 10 12 14 16 18 20]\n"
     ]
    }
   ],
   "source": [
    "b=np.arange(0,21,2)\n",
    "print(\"2. 偶數：\", b)"
   ]
  },
  {
   "cell_type": "code",
   "execution_count": 4,
   "metadata": {},
   "outputs": [
    {
     "name": "stdout",
     "output_type": "stream",
     "text": [
      "3. 3的倍數： [ 0  3  6  9 12 15 18]\n"
     ]
    }
   ],
   "source": [
    "c=np.arange(0,21,3)\n",
    "print(\"3. 3的倍數：\", c)"
   ]
  },
  {
   "cell_type": "markdown",
   "metadata": {},
   "source": [
    " [簡答題] 請問下列兩種將 Array 轉換成 List 的方式有何不同？\n",
    "\n",
    "```\n",
    "print('list(a): ', list(a))\n",
    "print('tolist(): ', a.tolist())\n",
    "```"
   ]
  },
  {
   "cell_type": "markdown",
   "metadata": {},
   "source": [
    "list(a) 只會把第一層的元素轉換成 List，多層的話只有第一層會轉。\n",
    "tolist() 不將所有值都包在同一個矩陣，能達成多層的型態轉換。"
   ]
  },
  {
   "cell_type": "markdown",
   "metadata": {},
   "source": [
    "請試著在程式中印出以下三個 NdArray 的屬性並且解釋結果？（屬性：ndim、shape、size、dtype、itemsize、length、type）\n",
    "\n",
    "```\n",
    "a = np.random.randint(10, size=6) \n",
    "b = np.random.randint(10, size=(3,4)) \n",
    "c = np.random.randint(10, size=(2,3,2)) \n",
    "```"
   ]
  },
  {
   "cell_type": "code",
   "execution_count": 12,
   "metadata": {},
   "outputs": [
    {
     "name": "stdout",
     "output_type": "stream",
     "text": [
      "ndim: 1\n",
      "shape: (6,)\n",
      "size: 6\n",
      "dtype: int32\n",
      "itemsize: 4\n",
      "data: <memory at 0x000001E29ABC57C0>\n"
     ]
    }
   ],
   "source": [
    "# 記得先 Import 正確的套件\n",
    "import numpy as np\n",
    "a = np.random.randint(10, size=6)\n",
    "print(\"ndim:\",a.ndim)\n",
    "print(\"shape:\",a.shape)\n",
    "print(\"size:\",a.size)\n",
    "print(\"dtype:\",a.dtype)\n",
    "print(\"itemsize:\",a.itemsize)\n",
    "print(\"data:\",a.data)"
   ]
  },
  {
   "cell_type": "code",
   "execution_count": 13,
   "metadata": {},
   "outputs": [
    {
     "name": "stdout",
     "output_type": "stream",
     "text": [
      "ndim: 2\n",
      "shape: (3, 4)\n",
      "size: 12\n",
      "dtype: int32\n",
      "itemsize: 4\n",
      "data: <memory at 0x000001E29AFF12B0>\n"
     ]
    }
   ],
   "source": [
    "import numpy as np\n",
    "b = np.random.randint(10, size=(3,4))\n",
    "print(\"ndim:\",b.ndim)\n",
    "print(\"shape:\",b.shape)\n",
    "print(\"size:\",b.size)\n",
    "print(\"dtype:\",b.dtype)\n",
    "print(\"itemsize:\",b.itemsize)\n",
    "print(\"data:\",b.data)"
   ]
  },
  {
   "cell_type": "code",
   "execution_count": 14,
   "metadata": {},
   "outputs": [
    {
     "name": "stdout",
     "output_type": "stream",
     "text": [
      "ndim: 3\n",
      "shape: (2, 3, 2)\n",
      "size: 12\n",
      "dtype: int32\n",
      "itemsize: 4\n",
      "data: <memory at 0x000001E29B04E040>\n"
     ]
    }
   ],
   "source": [
    "import numpy as np\n",
    "c = np.random.randint(10, size=(2,3,2))\n",
    "print(\"ndim:\",c.ndim)\n",
    "print(\"shape:\",c.shape)\n",
    "print(\"size:\",c.size)\n",
    "print(\"dtype:\",c.dtype)\n",
    "print(\"itemsize:\",c.itemsize)\n",
    "print(\"data:\",c.data)"
   ]
  },
  {
   "cell_type": "markdown",
   "metadata": {},
   "source": [
    "如何利用 list(...) 實現 a.tolist() 的效果？試著用程式實作。"
   ]
  },
  {
   "cell_type": "code",
   "execution_count": 15,
   "metadata": {},
   "outputs": [
    {
     "name": "stdout",
     "output_type": "stream",
     "text": [
      "[4, 8, 9, 6, 3, 1]\n",
      "[4, 8, 9, 6, 3, 1]\n"
     ]
    }
   ],
   "source": [
    "print(list(a))\n",
    "print(a.tolist())"
   ]
  },
  {
   "cell_type": "code",
   "execution_count": 16,
   "metadata": {},
   "outputs": [
    {
     "name": "stdout",
     "output_type": "stream",
     "text": [
      "[array([9, 6, 2, 3]), array([0, 0, 7, 6]), array([2, 4, 8, 4])]\n",
      "[[9, 6, 2, 3], [0, 0, 7, 6], [2, 4, 8, 4]]\n"
     ]
    }
   ],
   "source": [
    "print(list(b))\n",
    "print(b.tolist())"
   ]
  },
  {
   "cell_type": "code",
   "execution_count": 17,
   "metadata": {},
   "outputs": [
    {
     "name": "stdout",
     "output_type": "stream",
     "text": [
      "[array([[6, 2],\n",
      "       [4, 3],\n",
      "       [1, 4]]), array([[8, 7],\n",
      "       [7, 4],\n",
      "       [3, 2]])]\n",
      "[[[6, 2], [4, 3], [1, 4]], [[8, 7], [7, 4], [3, 2]]]\n"
     ]
    }
   ],
   "source": [
    "print(list(c))\n",
    "print(c.tolist())"
   ]
  },
  {
   "cell_type": "code",
   "execution_count": null,
   "metadata": {},
   "outputs": [],
   "source": []
  }
 ],
 "metadata": {
  "kernelspec": {
   "display_name": "Python 3",
   "language": "python",
   "name": "python3"
  },
  "language_info": {
   "codemirror_mode": {
    "name": "ipython",
    "version": 3
   },
   "file_extension": ".py",
   "mimetype": "text/x-python",
   "name": "python",
   "nbconvert_exporter": "python",
   "pygments_lexer": "ipython3",
   "version": "3.8.5"
  }
 },
 "nbformat": 4,
 "nbformat_minor": 4
}
